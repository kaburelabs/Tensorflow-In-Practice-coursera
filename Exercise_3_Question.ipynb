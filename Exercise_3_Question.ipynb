{
 "cells": [
  {
   "cell_type": "markdown",
   "metadata": {
    "colab_type": "text",
    "id": "iQjHqsmTAVLU"
   },
   "source": [
    "## Exercise 3\n",
    "In the videos you looked at how you would improve Fashion MNIST using Convolutions. For your exercise see if you can improve MNIST to 99.8% accuracy or more using only a single convolutional layer and a single MaxPooling 2D. You should stop training once the accuracy goes above this amount. It should happen in less than 20 epochs, so it's ok to hard code the number of epochs for training, but your training must end once it hits the above metric. If it doesn't, then you'll need to redesign your layers.\n",
    "\n",
    "I've started the code for you -- you need to finish it!\n",
    "\n",
    "When 99.8% accuracy has been hit, you should print out the string \"Reached 99.8% accuracy so cancelling training!\"\n"
   ]
  },
  {
   "cell_type": "code",
   "execution_count": 6,
   "metadata": {
    "colab": {
     "base_uri": "https://localhost:8080/",
     "height": 714
    },
    "colab_type": "code",
    "id": "sfQRyaJWAIdg",
    "outputId": "9ebff7d4-44f4-44e9-9e6b-5370f6de5971"
   },
   "outputs": [
    {
     "name": "stdout",
     "output_type": "stream",
     "text": [
      "Model: \"sequential_5\"\n",
      "_________________________________________________________________\n",
      "Layer (type)                 Output Shape              Param #   \n",
      "=================================================================\n",
      "conv2d_5 (Conv2D)            (None, 27, 27, 64)        320       \n",
      "_________________________________________________________________\n",
      "max_pooling2d_5 (MaxPooling2 (None, 13, 13, 64)        0         \n",
      "_________________________________________________________________\n",
      "flatten_5 (Flatten)          (None, 10816)             0         \n",
      "_________________________________________________________________\n",
      "dense_10 (Dense)             (None, 128)               1384576   \n",
      "_________________________________________________________________\n",
      "dense_11 (Dense)             (None, 10)                1290      \n",
      "=================================================================\n",
      "Total params: 1,386,186\n",
      "Trainable params: 1,386,186\n",
      "Non-trainable params: 0\n",
      "_________________________________________________________________\n",
      "Train on 60000 samples\n",
      "Epoch 1/20\n",
      "60000/60000 [==============================] - 58s 959us/sample - loss: 0.1666 - acc: 0.9505\n",
      "Epoch 2/20\n",
      "60000/60000 [==============================] - 57s 949us/sample - loss: 0.0583 - acc: 0.9817\n",
      "Epoch 3/20\n",
      "60000/60000 [==============================] - 56s 937us/sample - loss: 0.0373 - acc: 0.9883\n",
      "Epoch 4/20\n",
      "60000/60000 [==============================] - 55s 920us/sample - loss: 0.0253 - acc: 0.9920\n",
      "Epoch 5/20\n",
      "60000/60000 [==============================] - 55s 913us/sample - loss: 0.0164 - acc: 0.9949\n",
      "Epoch 6/20\n",
      "60000/60000 [==============================] - 55s 915us/sample - loss: 0.0132 - acc: 0.9955\n",
      "Epoch 7/20\n",
      "60000/60000 [==============================] - 55s 922us/sample - loss: 0.0094 - acc: 0.9971\n",
      "Epoch 8/20\n",
      "60000/60000 [==============================] - 55s 922us/sample - loss: 0.0082 - acc: 0.9973\n",
      "Epoch 9/20\n",
      "60000/60000 [==============================] - 55s 922us/sample - loss: 0.0066 - acc: 0.9977\n",
      "Epoch 10/20\n",
      "59936/60000 [============================>.] - ETA: 0s - loss: 0.0050 - acc: 0.9986Reached 99% of Accuracy!\n",
      "60000/60000 [==============================] - 55s 915us/sample - loss: 0.0050 - acc: 0.9986\n"
     ]
    },
    {
     "data": {
      "text/plain": [
       "<tensorflow.python.keras.callbacks.History at 0x7fa9456bc828>"
      ]
     },
     "execution_count": 6,
     "metadata": {
      "tags": []
     },
     "output_type": "execute_result"
    }
   ],
   "source": [
    "import tensorflow as tf\n",
    "from tensorflow import keras\n",
    "\n",
    "# YOUR CODE STARTS HERE\n",
    "class myCallback(tf.keras.callbacks.Callback):\n",
    "    def on_epoch_end(self, epoch, logs={}):\n",
    "        if(logs.get('acc') > .998):\n",
    "            print('Reached 99% of Accuracy!')\n",
    "            self.model.stop_training = True\n",
    "# YOUR CODE ENDS HERE\n",
    "\n",
    "mnist = tf.keras.datasets.mnist\n",
    "(training_images, training_labels), (test_images, test_labels) = mnist.load_data()\n",
    "\n",
    "# YOUR CODE STARTS HERE\n",
    "callbacks = myCallback()\n",
    "training_images = training_images.reshape(60000,28,28,1)\n",
    "training_images = training_images / 255.0\n",
    "test_images = test_images.reshape(10000,28,28,1)\n",
    "test_images = test_images / 255.0\n",
    "# YOUR CODE ENDS HERE\n",
    "\n",
    "model = keras.models.Sequential([\n",
    "    keras.layers.Conv2D(64, (2,2), activation='relu', \n",
    "                        input_shape=(28,28,1)),\n",
    "    keras.layers.MaxPool2D((2,2)),\n",
    "    keras.layers.Flatten(),\n",
    "    keras.layers.Dense(128, activation='relu'),\n",
    "    keras.layers.Dense(10, activation='softmax')\n",
    "    # YOUR CODE STARTS HERE\n",
    "      \n",
    "    # YOUR CODE ENDS HERE\n",
    "])\n",
    "\n",
    "model.summary()\n",
    "\n",
    "# YOUR CODE STARTS HERE\n",
    "model.compile(optimizer='adam', \n",
    "              loss='sparse_categorical_crossentropy',\n",
    "              metrics=['accuracy'])\n",
    "\n",
    "model.fit(training_images, training_labels, epochs=20, callbacks=[callbacks])\n",
    "# YOUR CODE ENDS HERE\n"
   ]
  },
  {
   "cell_type": "code",
   "execution_count": 0,
   "metadata": {
    "colab": {},
    "colab_type": "code",
    "id": "5rKqR68nSkES"
   },
   "outputs": [],
   "source": []
  }
 ],
 "metadata": {
  "colab": {
   "collapsed_sections": [],
   "name": "Exercise 3 - Question.ipynb",
   "provenance": []
  },
  "kernelspec": {
   "display_name": "Python 3",
   "language": "python",
   "name": "python3"
  },
  "language_info": {
   "codemirror_mode": {
    "name": "ipython",
    "version": 3
   },
   "file_extension": ".py",
   "mimetype": "text/x-python",
   "name": "python",
   "nbconvert_exporter": "python",
   "pygments_lexer": "ipython3",
   "version": "3.7.4"
  }
 },
 "nbformat": 4,
 "nbformat_minor": 1
}
