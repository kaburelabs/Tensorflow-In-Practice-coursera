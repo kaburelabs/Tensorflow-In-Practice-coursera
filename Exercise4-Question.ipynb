{
 "cells": [
  {
   "cell_type": "markdown",
   "metadata": {
    "colab_type": "text",
    "id": "UncprnB0ymAE"
   },
   "source": [
    "Below is code with a link to a happy or sad dataset which contains 80 images, 40 happy and 40 sad. \n",
    "Create a convolutional neural network that trains to 100% accuracy on these images,  which cancels training upon hitting training accuracy of >.999\n",
    "\n",
    "Hint -- it will work best with 3 convolutional layers."
   ]
  },
  {
   "cell_type": "code",
   "execution_count": 1,
   "metadata": {},
   "outputs": [],
   "source": [
    "import tensorflow as tf\n",
    "import os\n",
    "import zipfile\n",
    "from os import path, getcwd, chdir\n",
    "\n",
    "# DO NOT CHANGE THE LINE BELOW. If you are developing in a local\n",
    "# environment, then grab happy-or-sad.zip from the Coursera Jupyter Notebook\n",
    "# and place it inside a local folder and edit the path to that location\n",
    "path = f\"{getcwd()}/../tmp2/happy-or-sad.zip\"\n",
    "\n",
    "zip_ref = zipfile.ZipFile(path, 'r')\n",
    "zip_ref.extractall(\"/tmp/h-or-s\")\n",
    "zip_ref.close()"
   ]
  },
  {
   "cell_type": "code",
   "execution_count": null,
   "metadata": {},
   "outputs": [],
   "source": []
  },
  {
   "cell_type": "code",
   "execution_count": 25,
   "metadata": {},
   "outputs": [],
   "source": [
    "# GRADED FUNCTION: train_happy_sad_model\n",
    "def train_happy_sad_model():\n",
    "    # Please write your code only where you are indicated.\n",
    "    # please do not remove # model fitting inline comments.\n",
    "\n",
    "    DESIRED_ACCURACY = 0.999\n",
    "\n",
    "    class myCallback(tf.keras.callbacks.Callback):\n",
    "         # Your Code\n",
    "            def on_epoch_end(self, epoch, logs={}):\n",
    "                if (logs.get('acc') > DESIRED_ACCURACY):\n",
    "                    print(\"Reached goal.\")\n",
    "                    self.model.stop_training = True\n",
    "\n",
    "    callbacks = myCallback()\n",
    "    \n",
    "    # This Code Block should Define and Compile the Model. Please assume the images are 150 X 150 in your implementation.\n",
    "    model = tf.keras.models.Sequential([\n",
    "        # Your Code Here\n",
    "        tf.keras.layers.Conv2D(64, (3,3), activation='relu', input_shape=(150,150,3)),\n",
    "        tf.keras.layers.MaxPooling2D(2,2),\n",
    "        tf.keras.layers.Conv2D(32, (2,2), activation='relu'),\n",
    "        tf.keras.layers.MaxPooling2D(2,2),\n",
    "        tf.keras.layers.Conv2D(32, (2,2), activation='relu'),\n",
    "        tf.keras.layers.MaxPooling2D(2,2),\n",
    "        tf.keras.layers.Flatten(),\n",
    "        tf.keras.layers.Dense(512, activation='relu'),\n",
    "        tf.keras.layers.Dense(1, activation='sigmoid')\n",
    "    ])\n",
    "\n",
    "    from tensorflow.keras.optimizers import RMSprop\n",
    "\n",
    "    model.compile(optimizer=RMSprop(0.0001),\n",
    "                  loss='binary_crossentropy', \n",
    "                  metrics=['acc'])\n",
    "        \n",
    "\n",
    "    # This code block should create an instance of an ImageDataGenerator called train_datagen \n",
    "    # And a train_generator by calling train_datagen.flow_from_directory\n",
    "\n",
    "    from tensorflow.keras.preprocessing.image import ImageDataGenerator\n",
    "\n",
    "    train_datagen = ImageDataGenerator(rescale=1/255)\n",
    "\n",
    "    # Please use a target_size of 150 X 150.\n",
    "    train_generator = train_datagen.flow_from_directory(\n",
    "        '/tmp/h-or-s',\n",
    "        target_size=(150,150),\n",
    "        batch_size=32,\n",
    "        class_mode='binary')\n",
    "        \n",
    "    # Expected output: 'Found 80 images belonging to 2 classes'\n",
    "\n",
    "    # This code block should call model.fit_generator and train for\n",
    "    # a number of epochs.\n",
    "    # model fitting\n",
    "    history = model.fit_generator(\n",
    "        train_generator, \n",
    "        steps_per_epoch=8,\n",
    "        epochs=30, callbacks=[callbacks],\n",
    "        verbose=1)\n",
    "          # Your Code Here)\n",
    "    # model fitting\n",
    "    return history.history['acc'][-1]"
   ]
  },
  {
   "cell_type": "code",
   "execution_count": 26,
   "metadata": {},
   "outputs": [
    {
     "name": "stdout",
     "output_type": "stream",
     "text": [
      "Found 80 images belonging to 2 classes.\n",
      "Epoch 1/30\n",
      "8/8 [==============================] - 3s 351ms/step - loss: 0.7392 - acc: 0.6339\n",
      "Epoch 2/30\n",
      "8/8 [==============================] - 1s 113ms/step - loss: 0.5780 - acc: 0.7067\n",
      "Epoch 3/30\n",
      "8/8 [==============================] - 1s 123ms/step - loss: 0.4868 - acc: 0.8510\n",
      "Epoch 4/30\n",
      "8/8 [==============================] - 1s 115ms/step - loss: 0.3759 - acc: 0.8990\n",
      "Epoch 5/30\n",
      "8/8 [==============================] - 1s 126ms/step - loss: 0.3006 - acc: 0.9279\n",
      "Epoch 6/30\n",
      "8/8 [==============================] - 1s 128ms/step - loss: 0.2577 - acc: 0.9241\n",
      "Epoch 7/30\n",
      "8/8 [==============================] - 1s 125ms/step - loss: 0.2213 - acc: 0.9471\n",
      "Epoch 8/30\n",
      "8/8 [==============================] - 1s 107ms/step - loss: 0.1904 - acc: 0.9519\n",
      "Epoch 9/30\n",
      "8/8 [==============================] - 1s 121ms/step - loss: 0.1942 - acc: 0.9554\n",
      "Epoch 10/30\n",
      "8/8 [==============================] - 1s 122ms/step - loss: 0.1634 - acc: 0.9519\n",
      "Epoch 11/30\n",
      "8/8 [==============================] - 1s 138ms/step - loss: 0.1444 - acc: 0.9375\n",
      "Epoch 12/30\n",
      "8/8 [==============================] - 1s 125ms/step - loss: 0.1425 - acc: 0.9519\n",
      "Epoch 13/30\n",
      "8/8 [==============================] - 1s 123ms/step - loss: 0.1285 - acc: 0.9519\n",
      "Epoch 14/30\n",
      "8/8 [==============================] - 1s 126ms/step - loss: 0.1008 - acc: 0.9598\n",
      "Epoch 15/30\n",
      "8/8 [==============================] - 1s 122ms/step - loss: 0.0925 - acc: 0.9712\n",
      "Epoch 16/30\n",
      "8/8 [==============================] - 1s 137ms/step - loss: 0.1048 - acc: 0.9732\n",
      "Epoch 17/30\n",
      "8/8 [==============================] - 1s 126ms/step - loss: 0.0806 - acc: 0.9663\n",
      "Epoch 18/30\n",
      "8/8 [==============================] - 1s 115ms/step - loss: 0.0789 - acc: 0.9712\n",
      "Epoch 19/30\n",
      "8/8 [==============================] - 1s 120ms/step - loss: 0.0720 - acc: 0.9856\n",
      "Epoch 20/30\n",
      "8/8 [==============================] - 1s 114ms/step - loss: 0.0832 - acc: 0.9760\n",
      "Epoch 21/30\n",
      "8/8 [==============================] - 1s 124ms/step - loss: 0.0527 - acc: 0.9866\n",
      "Epoch 22/30\n",
      "8/8 [==============================] - 1s 136ms/step - loss: 0.0981 - acc: 0.9712\n",
      "Epoch 23/30\n",
      "8/8 [==============================] - 1s 137ms/step - loss: 0.0438 - acc: 0.9955\n",
      "Epoch 24/30\n",
      "8/8 [==============================] - 1s 124ms/step - loss: 0.0475 - acc: 0.9904\n",
      "Epoch 25/30\n",
      "8/8 [==============================] - 1s 127ms/step - loss: 0.0557 - acc: 0.9821\n",
      "Epoch 26/30\n",
      "8/8 [==============================] - 1s 123ms/step - loss: 0.0476 - acc: 0.9808\n",
      "Epoch 27/30\n",
      "8/8 [==============================] - 1s 115ms/step - loss: 0.0394 - acc: 0.9952\n",
      "Epoch 28/30\n",
      "7/8 [=========================>....] - ETA: 0s - loss: 0.0338 - acc: 1.0000Reached goal.\n",
      "8/8 [==============================] - 1s 122ms/step - loss: 0.0374 - acc: 1.0000\n"
     ]
    },
    {
     "data": {
      "text/plain": [
       "1.0"
      ]
     },
     "execution_count": 26,
     "metadata": {},
     "output_type": "execute_result"
    }
   ],
   "source": [
    "# The Expected output: \"Reached 99.9% accuracy so cancelling training!\"\"\n",
    "train_happy_sad_model()"
   ]
  },
  {
   "cell_type": "code",
   "execution_count": null,
   "metadata": {},
   "outputs": [],
   "source": []
  }
 ],
 "metadata": {
  "coursera": {
   "course_slug": "introduction-tensorflow",
   "graded_item_id": "1kAlw",
   "launcher_item_id": "PNLYD"
  },
  "kernelspec": {
   "display_name": "Python 3",
   "language": "python",
   "name": "python3"
  },
  "language_info": {
   "codemirror_mode": {
    "name": "ipython",
    "version": 3
   },
   "file_extension": ".py",
   "mimetype": "text/x-python",
   "name": "python",
   "nbconvert_exporter": "python",
   "pygments_lexer": "ipython3",
   "version": "3.6.8"
  }
 },
 "nbformat": 4,
 "nbformat_minor": 1
}
